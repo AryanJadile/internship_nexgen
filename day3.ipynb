{
 "cells": [
  {
   "cell_type": "code",
   "execution_count": 1,
   "id": "72d8a88a-9e5b-4681-848a-713791f63315",
   "metadata": {},
   "outputs": [
    {
     "name": "stdout",
     "output_type": "stream",
     "text": [
      "Hello World\n"
     ]
    }
   ],
   "source": [
    "print(\"Hello World\")"
   ]
  },
  {
   "cell_type": "code",
   "execution_count": 7,
   "id": "4a531817-25fc-471e-92ee-727150a6f9be",
   "metadata": {},
   "outputs": [
    {
     "name": "stdout",
     "output_type": "stream",
     "text": [
      "30\n"
     ]
    }
   ],
   "source": [
    "a = 10\n",
    "b = 20\n",
    "c = a + b\n",
    "print(c)"
   ]
  },
  {
   "cell_type": "code",
   "execution_count": 11,
   "id": "ac260b94-58d6-4ba0-bbe9-3904760ad20d",
   "metadata": {},
   "outputs": [
    {
     "name": "stdout",
     "output_type": "stream",
     "text": [
      " 10\n",
      " 50\n"
     ]
    },
    {
     "name": "stdout",
     "output_type": "stream",
     "text": [
      "60\n"
     ]
    }
   ],
   "source": [
    "a = int(input())\n",
    "b = int(input())\n",
    "c = a + b\n",
    "print(c)"
   ]
  },
  {
   "cell_type": "code",
   "execution_count": 17,
   "id": "2c1f321b-5814-41ea-bca0-4b2d8da2660e",
   "metadata": {},
   "outputs": [],
   "source": [
    "def nose(a,b):\n",
    "    return a * b"
   ]
  },
  {
   "cell_type": "code",
   "execution_count": 19,
   "id": "13990e14-00e0-4b8d-bc2f-6650139cf1a4",
   "metadata": {},
   "outputs": [
    {
     "data": {
      "text/plain": [
       "300"
      ]
     },
     "execution_count": 19,
     "metadata": {},
     "output_type": "execute_result"
    }
   ],
   "source": [
    "nose(10,30)"
   ]
  },
  {
   "cell_type": "code",
   "execution_count": 60,
   "id": "62fe318d-b29e-4316-8f78-9d3f09a6b8c6",
   "metadata": {},
   "outputs": [],
   "source": [
    "f = open(\"1.txt\", \"r\")"
   ]
  },
  {
   "cell_type": "code",
   "execution_count": 64,
   "id": "969bcf20-5303-4a0b-9acb-1bd9c0e3f8b5",
   "metadata": {},
   "outputs": [],
   "source": [
    "fo = f.read()"
   ]
  },
  {
   "cell_type": "code",
   "execution_count": 1,
   "id": "ef885819-c631-4916-88aa-e3ef8b5663ff",
   "metadata": {},
   "outputs": [
    {
     "name": "stdout",
     "output_type": "stream",
     "text": [
      "a\n"
     ]
    }
   ],
   "source": [
    "print(\"a\")"
   ]
  },
  {
   "cell_type": "markdown",
   "id": "4ae5c909",
   "metadata": {},
   "source": [
    "#### Dictionary"
   ]
  },
  {
   "cell_type": "markdown",
   "id": "984f0808",
   "metadata": {},
   "source": [
    "    .get function doesnt give error "
   ]
  },
  {
   "cell_type": "code",
   "execution_count": 4,
   "id": "1dfd7970",
   "metadata": {},
   "outputs": [],
   "source": [
    "d1 = {\n",
    "  \"squadName\": \"Super hero squad\",\n",
    "  \"homeTown\": \"Metro City\",\n",
    "  \"formed\": 2016,\n",
    "  \"secretBase\": \"Super tower\",\n",
    "  \"active\": \"true\",\n",
    "  \"members\": [\n",
    "    {\n",
    "      \"name\": \"Molecule Man\",\n",
    "      \"age\": 29,\n",
    "      \"secretIdentity\": \"Dan Jukes\",\n",
    "      \"powers\": [\"Radiation resistance\", \"Turning tiny\", \"Radiation blast\"]\n",
    "    },\n",
    "    {\n",
    "      \"name\": \"Madame Uppercut\",\n",
    "      \"age\": 39,\n",
    "      \"secretIdentity\": \"Jane Wilson\",\n",
    "      \"powers\": [\n",
    "        \"Million tonne punch\",\n",
    "        \"Damage resistance\",\n",
    "        \"Superhuman reflexes\"\n",
    "      ]\n",
    "    },\n",
    "    {\n",
    "      \"name\": \"Eternal Flame\",\n",
    "      \"age\": 1000000,\n",
    "      \"secretIdentity\": \"Unknown\",\n",
    "      \"powers\": [\n",
    "        \"Immortality\",\n",
    "        \"Heat Immunity\",\n",
    "        \"Inferno\",\n",
    "        \"Teleportation\",\n",
    "        \"Interdimensional travel\"\n",
    "      ]\n",
    "    }\n",
    "  ]\n",
    "}\n"
   ]
  },
  {
   "cell_type": "code",
   "execution_count": 13,
   "id": "5491b178",
   "metadata": {},
   "outputs": [
    {
     "data": {
      "text/plain": [
       "'Super human'"
      ]
     },
     "execution_count": 13,
     "metadata": {},
     "output_type": "execute_result"
    }
   ],
   "source": [
    "d1['members'][1]['powers'][-1].split()[0][:5]+' '+ d1['members'][1]['powers'][-1].split()[0][5:]\n"
   ]
  },
  {
   "cell_type": "markdown",
   "id": "e81ce7ac",
   "metadata": {},
   "source": [
    "#### SET\n"
   ]
  },
  {
   "cell_type": "markdown",
   "id": "1bf7d333",
   "metadata": {},
   "source": [
    "duplicates are not allowed in a set"
   ]
  },
  {
   "cell_type": "markdown",
   "id": "08692d1e",
   "metadata": {},
   "source": [
    "#### operators\n",
    "- arithmatic = +, -, *, /, //, %\n",
    "- logical = \n",
    "- comparison\n",
    "- membership\n",
    "- bitwise\n",
    "-assignment"
   ]
  }
 ],
 "metadata": {
  "kernelspec": {
   "display_name": "Python 3",
   "language": "python",
   "name": "python3"
  },
  "language_info": {
   "codemirror_mode": {
    "name": "ipython",
    "version": 3
   },
   "file_extension": ".py",
   "mimetype": "text/x-python",
   "name": "python",
   "nbconvert_exporter": "python",
   "pygments_lexer": "ipython3",
   "version": "3.10.11"
  }
 },
 "nbformat": 4,
 "nbformat_minor": 5
}
