{
 "cells": [
  {
   "cell_type": "code",
   "execution_count": 1,
   "id": "72d8a88a-9e5b-4681-848a-713791f63315",
   "metadata": {},
   "outputs": [
    {
     "name": "stdout",
     "output_type": "stream",
     "text": [
      "Hello World\n"
     ]
    }
   ],
   "source": [
    "print(\"Hello World\")"
   ]
  },
  {
   "cell_type": "code",
   "execution_count": 7,
   "id": "4a531817-25fc-471e-92ee-727150a6f9be",
   "metadata": {},
   "outputs": [
    {
     "name": "stdout",
     "output_type": "stream",
     "text": [
      "30\n"
     ]
    }
   ],
   "source": [
    "a = 10\n",
    "b = 20\n",
    "c = a + b\n",
    "print(c)"
   ]
  },
  {
   "cell_type": "code",
   "execution_count": 11,
   "id": "ac260b94-58d6-4ba0-bbe9-3904760ad20d",
   "metadata": {},
   "outputs": [
    {
     "name": "stdin",
     "output_type": "stream",
     "text": [
      " 10\n",
      " 50\n"
     ]
    },
    {
     "name": "stdout",
     "output_type": "stream",
     "text": [
      "60\n"
     ]
    }
   ],
   "source": [
    "a = int(input())\n",
    "b = int(input())\n",
    "c = a + b\n",
    "print(c)"
   ]
  },
  {
   "cell_type": "code",
   "execution_count": 17,
   "id": "2c1f321b-5814-41ea-bca0-4b2d8da2660e",
   "metadata": {},
   "outputs": [],
   "source": [
    "def nose(a,b):\n",
    "    return a * b"
   ]
  },
  {
   "cell_type": "code",
   "execution_count": 19,
   "id": "13990e14-00e0-4b8d-bc2f-6650139cf1a4",
   "metadata": {},
   "outputs": [
    {
     "data": {
      "text/plain": [
       "300"
      ]
     },
     "execution_count": 19,
     "metadata": {},
     "output_type": "execute_result"
    }
   ],
   "source": [
    "nose(10,30)"
   ]
  },
  {
   "cell_type": "code",
   "execution_count": 60,
   "id": "62fe318d-b29e-4316-8f78-9d3f09a6b8c6",
   "metadata": {},
   "outputs": [],
   "source": [
    "f = open(\"1.txt\", \"r\")"
   ]
  },
  {
   "cell_type": "code",
   "execution_count": 64,
   "id": "969bcf20-5303-4a0b-9acb-1bd9c0e3f8b5",
   "metadata": {},
   "outputs": [],
   "source": [
    "fo = f.read()"
   ]
  },
  {
   "attachments": {},
   "cell_type": "markdown",
   "id": "0b07de29-13da-4a22-92d7-c78a357965a4",
   "metadata": {},
   "source": [
    "\n",
    "\n",
    "ls\n"
   ]
  },
  {
   "cell_type": "markdown",
   "id": "eedabe27-c917-4912-bb4e-abeba6ee0b81",
   "metadata": {},
   "source": [
    "I am Happy"
   ]
  },
  {
   "cell_type": "code",
   "execution_count": null,
   "id": "ef885819-c631-4916-88aa-e3ef8b5663ff",
   "metadata": {},
   "outputs": [],
   "source": []
  }
 ],
 "metadata": {
  "kernelspec": {
   "display_name": "Python 3 (ipykernel)",
   "language": "python",
   "name": "python3"
  },
  "language_info": {
   "codemirror_mode": {
    "name": "ipython",
    "version": 3
   },
   "file_extension": ".py",
   "mimetype": "text/x-python",
   "name": "python",
   "nbconvert_exporter": "python",
   "pygments_lexer": "ipython3",
   "version": "3.12.7"
  }
 },
 "nbformat": 4,
 "nbformat_minor": 5
}
